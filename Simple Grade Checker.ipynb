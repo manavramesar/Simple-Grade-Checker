{
 "cells": [
  {
   "cell_type": "markdown",
   "id": "31c1caa8-7fb0-4e4e-a178-ef6120fdd23b",
   "metadata": {},
   "source": [
    "# Code"
   ]
  },
  {
   "cell_type": "code",
   "execution_count": 10,
   "id": "e43c60d6-439c-40dc-b70c-f6492f79dfa0",
   "metadata": {},
   "outputs": [
    {
     "name": "stdin",
     "output_type": "stream",
     "text": [
      "Please Enter Your Mark 23\n"
     ]
    },
    {
     "name": "stdout",
     "output_type": "stream",
     "text": [
      "F\n"
     ]
    }
   ],
   "source": [
    "grade = int(input('Please Enter Your Mark'))\n",
    "\n",
    "\n",
    "if  grade > 0:\n",
    "    if (grade < 60):\n",
    "        print('F')\n",
    "    elif (grade <= 69):\n",
    "        print('D')\n",
    "    elif (grade <= 79):    \n",
    "        print('C')\n",
    "    elif (grade <= 89):\n",
    "        print('B')\n",
    "    elif (grade <= 100):\n",
    "        print('A') \n",
    "else:\n",
    "    print('Invalid Grade')"
   ]
  },
  {
   "cell_type": "code",
   "execution_count": null,
   "id": "b63df824-0d3d-42bc-a6f6-05c788f9bd41",
   "metadata": {},
   "outputs": [],
   "source": []
  },
  {
   "cell_type": "code",
   "execution_count": null,
   "id": "8bb25a4b-a990-42fb-84f4-f426b37f73c7",
   "metadata": {},
   "outputs": [],
   "source": []
  }
 ],
 "metadata": {
  "kernelspec": {
   "display_name": "Python 3 (ipykernel)",
   "language": "python",
   "name": "python3"
  },
  "language_info": {
   "codemirror_mode": {
    "name": "ipython",
    "version": 3
   },
   "file_extension": ".py",
   "mimetype": "text/x-python",
   "name": "python",
   "nbconvert_exporter": "python",
   "pygments_lexer": "ipython3",
   "version": "3.11.5"
  }
 },
 "nbformat": 4,
 "nbformat_minor": 5
}
